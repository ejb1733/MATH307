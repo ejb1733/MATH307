{
 "cells": [
  {
   "cell_type": "markdown",
   "id": "1416a3b9",
   "metadata": {
    "deletable": false,
    "editable": false,
    "nbgrader": {
     "cell_type": "markdown",
     "checksum": "64c05636b6461133a7c970d6a60a1a59",
     "grade": false,
     "grade_id": "cell-33ad0071319e0863",
     "locked": true,
     "schema_version": 3,
     "solution": false,
     "task": false
    }
   },
   "source": [
    "# MATH 307 Assignment 3\n",
    "\n",
    "* See [Mathematical Python](https://www.math.ubc.ca/~pwalls/math-python/) for an introduction to Python and Jupyter\n",
    "* See [MATH 307 Jupyter Notebooks](https://ubcmath.github.io/MATH307/) for examples\n",
    "* Run the tests to verify your solutions but note there are **hidden tests**\n",
    "* Submit your `.ipynb` notebook file to Canvas"
   ]
  },
  {
   "cell_type": "code",
   "execution_count": 1,
   "id": "acbc4e04",
   "metadata": {
    "deletable": false,
    "editable": false,
    "nbgrader": {
     "cell_type": "code",
     "checksum": "8b713638c2c5d99df7af1037a3475765",
     "grade": false,
     "grade_id": "cell-23578e777d19e157",
     "locked": true,
     "schema_version": 3,
     "solution": false,
     "task": false
    }
   },
   "outputs": [],
   "source": [
    "import numpy as np\n",
    "import scipy.linalg as la\n",
    "import matplotlib.pyplot as plt"
   ]
  },
  {
   "cell_type": "markdown",
   "id": "e743593f",
   "metadata": {
    "deletable": false,
    "editable": false,
    "nbgrader": {
     "cell_type": "markdown",
     "checksum": "98484ce15fd81617a665bb86ec7a13f8",
     "grade": false,
     "grade_id": "cell-c7ee2dd723d1cc28",
     "locked": true,
     "schema_version": 3,
     "solution": false,
     "task": false
    }
   },
   "source": [
    "# Problem 1 (4 marks)\n",
    "\n",
    "The following code imports and plots a dataset:"
   ]
  },
  {
   "cell_type": "code",
   "execution_count": 2,
   "id": "d97dd2d0",
   "metadata": {
    "deletable": false,
    "editable": false,
    "nbgrader": {
     "cell_type": "code",
     "checksum": "f5f459120c48017a0705a8e151df6996",
     "grade": false,
     "grade_id": "cell-d4bb40433277a772",
     "locked": true,
     "schema_version": 3,
     "solution": false,
     "task": false
    }
   },
   "outputs": [
    {
     "data": {
      "image/png": "[encoded data removed]",
      "text/plain": [
       "<Figure size 640x480 with 1 Axes>"
      ]
     },
     "metadata": {},
     "output_type": "display_data"
    }
   ],
   "source": [
    "data = np.genfromtxt('data.csv',delimiter=',')\n",
    "t = data[:,0]\n",
    "y = data[:,1]\n",
    "plt.plot(t,y,'.')\n",
    "plt.show()"
   ]
  },
  {
   "cell_type": "markdown",
   "id": "5f999831",
   "metadata": {
    "deletable": false,
    "editable": false,
    "nbgrader": {
     "cell_type": "markdown",
     "checksum": "86fcb6680cd0428bc95e5048bf02b6c9",
     "grade": false,
     "grade_id": "cell-5c7122b85e488ed6",
     "locked": true,
     "schema_version": 3,
     "solution": false,
     "task": false
    }
   },
   "source": [
    "Find a model of the form\n",
    "\n",
    "$$\n",
    "f(t) = c_0 + c_1 e^{-t} + c_2 e^{-2t} + c_3 e^{-3t}\n",
    "$$\n",
    "\n",
    "which best fits the data (by minimizing the sum of squared errors SSE). Save the coefficients as vector `c`."
   ]
  },
  {
   "cell_type": "code",
   "execution_count": null,
   "id": "537055f2",
   "metadata": {
    "deletable": false,
    "nbgrader": {
     "cell_type": "code",
     "checksum": "06448ee757dfe4d5cdfd79de4d0f2f5d",
     "grade": false,
     "grade_id": "cell-77e348395fa1e464",
     "locked": false,
     "schema_version": 3,
     "solution": true,
     "task": false
    }
   },
   "outputs": [],
   "source": [
    "# YOUR CODE HERE\n",
    "c = [1, 1, 1, 1]\n",
    "\n",
    "def f(t, c):\n",
    "    return c[0] + c[1]*np.exp(-t) + c[2]*np.exp(-2*t) + c[3] * np.exp(-3*t)\n",
    "\n",
    "c ="
   ]
  },
  {
   "cell_type": "code",
   "execution_count": null,
   "id": "aeb49dfd",
   "metadata": {
    "deletable": false,
    "editable": false,
    "nbgrader": {
     "cell_type": "code",
     "checksum": "cf9b92431ac0d9ab7641cf07ce8de032",
     "grade": true,
     "grade_id": "cell-ce76e785871b5f99",
     "locked": true,
     "points": 2,
     "schema_version": 3,
     "solution": false,
     "task": false
    }
   },
   "outputs": [],
   "source": [
    "\"Verify type and size of c. (2 marks)\"\n",
    "assert isinstance(c,np.ndarray)\n",
    "assert c.size == 4\n",
    "print(\"Problem 1 Test 1: Success!\")"
   ]
  },
  {
   "cell_type": "code",
   "execution_count": null,
   "id": "5fe7a85b",
   "metadata": {
    "deletable": false,
    "editable": false,
    "nbgrader": {
     "cell_type": "code",
     "checksum": "d52042457ca7558c4bb6ab6868a75d12",
     "grade": true,
     "grade_id": "cell-73a65e8db7c18a7d",
     "locked": true,
     "points": 2,
     "schema_version": 3,
     "solution": false,
     "task": false
    }
   },
   "outputs": [],
   "source": [
    "\"Verify value c. This cell contains hidden tests. (2 marks)\"\n",
    "assert np.round(c[0],1) == 1.7\n",
    "print(\"Problem 1 Test 2: Success!\")"
   ]
  },
  {
   "cell_type": "markdown",
   "id": "d340bce2",
   "metadata": {
    "deletable": false,
    "editable": false,
    "nbgrader": {
     "cell_type": "markdown",
     "checksum": "a0ed5fa5a4e5c49e066d2a8b9feb62df",
     "grade": false,
     "grade_id": "cell-e6014446d2d4753c",
     "locked": true,
     "schema_version": 3,
     "solution": false,
     "task": false
    }
   },
   "source": [
    "Plot the result:"
   ]
  },
  {
   "cell_type": "code",
   "execution_count": null,
   "id": "0ff0c476",
   "metadata": {
    "deletable": false,
    "editable": false,
    "nbgrader": {
     "cell_type": "code",
     "checksum": "f2bde1fd6a9aed47e59b70b66379c2c9",
     "grade": false,
     "grade_id": "cell-094cad12e74d749d",
     "locked": true,
     "schema_version": 3,
     "solution": false,
     "task": false
    }
   },
   "outputs": [],
   "source": [
    "y_pred = c[0] + c[1]*np.exp(-t) + c[2]*np.exp(-2*t)+ c[3]*np.exp(-3*t)\n",
    "plt.plot(t,y,'b.',t,y_pred,'r')\n",
    "plt.show()"
   ]
  },
  {
   "cell_type": "markdown",
   "id": "59edcbaf",
   "metadata": {
    "deletable": false,
    "editable": false,
    "nbgrader": {
     "cell_type": "markdown",
     "checksum": "a4dd73b6c11986b76681e900b9190fd4",
     "grade": false,
     "grade_id": "cell-40e0b49a17da1c63",
     "locked": true,
     "schema_version": 3,
     "solution": false,
     "task": false
    }
   },
   "source": [
    "## Problem 2 (5 marks)\n",
    "\n",
    "Compute eigenvalues and eigenvectors of a matrix $A$ with the function [`scipy.linalg.eig`](https://docs.scipy.org/doc/scipy/reference/generated/scipy.linalg.eig.html). The function returns eigenvalues as a vector and the eigenvectors as a matrix where column $i$ is the eigenvector with eignvalue in entry $i$ of the eigenvalue vector. For example, in the cell below, verify the eigenvalues and eigenectors of $A$ where\n",
    "\n",
    "$$\n",
    "A = \\begin{bmatrix} 5 & 1 \\\\ 1 & 5 \\end{bmatrix} \\hspace{20mm}\n",
    "\\lambda_1 = 6 \\ , \\ \\mathbf{v}_1 = \\frac{1}{\\sqrt{2}} \\begin{bmatrix} 1 \\\\ 1 \\end{bmatrix} \\hspace{20mm}\n",
    "\\lambda_2 = 4 \\ , \\ \\mathbf{v}_2 = \\frac{1}{\\sqrt{2}} \\begin{bmatrix} 1 \\\\ -1 \\end{bmatrix} \\hspace{20mm}  \n",
    "$$\n",
    "\n",
    "Notice that eigenvalues are always returned as complex numbers. Real eigenvalues simply have 0 imaginary part which SciPy writes as `0.j`."
   ]
  },
  {
   "cell_type": "code",
   "execution_count": 3,
   "id": "6bb8613c",
   "metadata": {
    "deletable": false,
    "editable": false,
    "nbgrader": {
     "cell_type": "code",
     "checksum": "51e3326d785a555b982b537c6f79ba18",
     "grade": false,
     "grade_id": "cell-f420dbd72d4c6b61",
     "locked": true,
     "schema_version": 3,
     "solution": false,
     "task": false
    }
   },
   "outputs": [
    {
     "name": "stdout",
     "output_type": "stream",
     "text": [
      "Eignvalues:\n",
      "[6.+0.j 4.+0.j] \n",
      "\n",
      "Eigenvectors:\n",
      "[[ 0.70710678 -0.70710678]\n",
      " [ 0.70710678  0.70710678]]\n"
     ]
    }
   ],
   "source": [
    "A = np.array([[5.,1.],[1.,5.]])\n",
    "evals, evecs = la.eig(A)\n",
    "\n",
    "print(\"Eignvalues:\")\n",
    "print(evals,\"\\n\")\n",
    "print(\"Eigenvectors:\")\n",
    "print(evecs)"
   ]
  },
  {
   "cell_type": "markdown",
   "id": "69f9f23e",
   "metadata": {
    "deletable": false,
    "editable": false,
    "nbgrader": {
     "cell_type": "markdown",
     "checksum": "43bdd3aa4f9185cdd450c34f175a0f30",
     "grade": false,
     "grade_id": "cell-4c0c205622c23971",
     "locked": true,
     "schema_version": 3,
     "solution": false,
     "task": false
    }
   },
   "source": [
    "The goal of this exercise is to compute the eigenvalues of $A_1A_1^T$ where $A_1$ is a Vandermonde matrix and then use the result to compute the condition number of $A_1$.\n",
    "\n",
    "(a) Create the Vandermonde matrix for $t_0=0,\\dots,t_5=5$ and save the result as `A1`. Recall, we use the definition of the Vandermonde matrix with values increasing from left to right."
   ]
  },
  {
   "cell_type": "code",
   "execution_count": 17,
   "id": "f6f6863a",
   "metadata": {
    "deletable": false,
    "nbgrader": {
     "cell_type": "code",
     "checksum": "aa8bdf30659d47544f23d68e2f87f06d",
     "grade": false,
     "grade_id": "cell-06379aa667b01974",
     "locked": false,
     "schema_version": 3,
     "solution": true,
     "task": false
    }
   },
   "outputs": [
    {
     "data": {
      "text/plain": [
       "array([[   1,    0,    0,    0,    0,    0],\n",
       "       [   1,    1,    1,    1,    1,    1],\n",
       "       [   1,    2,    4,    8,   16,   32],\n",
       "       [   1,    3,    9,   27,   81,  243],\n",
       "       [   1,    4,   16,   64,  256, 1024],\n",
       "       [   1,    5,   25,  125,  625, 3125]])"
      ]
     },
     "execution_count": 17,
     "metadata": {},
     "output_type": "execute_result"
    }
   ],
   "source": [
    "# YOUR CODE HERE\n",
    "A1 = np.vander([0,1,2,3,4,5],increasing=True)\n",
    "A1"
   ]
  },
  {
   "cell_type": "code",
   "execution_count": 12,
   "id": "c287529d",
   "metadata": {
    "deletable": false,
    "editable": false,
    "nbgrader": {
     "cell_type": "code",
     "checksum": "7be84339ad5ea285f64ad33d586147d5",
     "grade": true,
     "grade_id": "cell-0d8b6879f2bbbfaa",
     "locked": true,
     "points": 1,
     "schema_version": 3,
     "solution": false,
     "task": false
    }
   },
   "outputs": [
    {
     "name": "stdout",
     "output_type": "stream",
     "text": [
      "Problem 2a Test 1: Success!\n"
     ]
    }
   ],
   "source": [
    "\"Verify type of A1. (1 mark)\"\n",
    "assert isinstance(A1,np.ndarray) , \"A1 should be a NumPy array.\"\n",
    "print(\"Problem 2a Test 1: Success!\")"
   ]
  },
  {
   "cell_type": "code",
   "execution_count": 13,
   "id": "77f69dc0",
   "metadata": {
    "deletable": false,
    "editable": false,
    "nbgrader": {
     "cell_type": "code",
     "checksum": "d235d96ad5dcf8fa9d5371e4260ec059",
     "grade": true,
     "grade_id": "cell-f83170627aadae55",
     "locked": true,
     "points": 1,
     "schema_version": 3,
     "solution": false,
     "task": false
    }
   },
   "outputs": [
    {
     "name": "stdout",
     "output_type": "stream",
     "text": [
      "Problem 2a Test 2: Success!\n"
     ]
    }
   ],
   "source": [
    "\"Verify entries of A1. This cell contains hidden tests. (1 mark)\"\n",
    "assert np.allclose(A1[:,1],[0,1,2,3,4,5]) , \"Second column of A1 should be [0,1,2,3,4,5].\"\n",
    "print(\"Problem 2a Test 2: Success!\")"
   ]
  },
  {
   "cell_type": "markdown",
   "id": "1c33437b",
   "metadata": {
    "deletable": false,
    "editable": false,
    "nbgrader": {
     "cell_type": "markdown",
     "checksum": "2e6c9ba886d70b7025af33a95947c62c",
     "grade": false,
     "grade_id": "cell-8dc9c73c217358e8",
     "locked": true,
     "schema_version": 3,
     "solution": false,
     "task": false
    }
   },
   "source": [
    "(b) Compute the eigenvalues of $A_1A_1^T$. We know that the eigenvalues are real and non-negative. Use the function `np.real` to convert the values to real numbers. Save the largest eigenvalue as `lambda_max` and the smallest eigenvalue as `lambda_min`."
   ]
  },
  {
   "cell_type": "code",
   "execution_count": 27,
   "id": "b28351c9",
   "metadata": {
    "deletable": false,
    "nbgrader": {
     "cell_type": "code",
     "checksum": "1767ef98cc2fbb95cbf2dcaf7c8e1319",
     "grade": false,
     "grade_id": "cell-e04205910fde08b3",
     "locked": false,
     "schema_version": 3,
     "solution": true,
     "task": false
    }
   },
   "outputs": [
    {
     "data": {
      "text/plain": [
       "0.003411856279270588"
      ]
     },
     "execution_count": 27,
     "metadata": {},
     "output_type": "execute_result"
    }
   ],
   "source": [
    "# YOUR CODE HERE\n",
    "A1A1T = A1 @ A1.transpose()\n",
    "eval2b, evec2b = (la.eig(A1A1T))\n",
    "\n",
    "lambda_max = np.real(np.max(eval2b))\n",
    "lambda_min = np.real(np.min(eval2b))\n",
    "\n",
    "eval2b\n",
    "lambda_max\n",
    "lambda_min"
   ]
  },
  {
   "cell_type": "code",
   "execution_count": 26,
   "id": "f0f4febd",
   "metadata": {
    "deletable": false,
    "editable": false,
    "nbgrader": {
     "cell_type": "code",
     "checksum": "4c90351429910159d85fea4b2de1ff14",
     "grade": true,
     "grade_id": "cell-d2557a2981f9e830",
     "locked": true,
     "points": 1,
     "schema_version": 3,
     "solution": false,
     "task": false
    }
   },
   "outputs": [
    {
     "name": "stdout",
     "output_type": "stream",
     "text": [
      "Problem 2b Test 1: Success!\n"
     ]
    }
   ],
   "source": [
    "\"Verify values are real numbers. (1 mark)\"\n",
    "assert isinstance(lambda_max,np.float64)\n",
    "assert isinstance(lambda_min,np.float64)\n",
    "print(\"Problem 2b Test 1: Success!\")"
   ]
  },
  {
   "cell_type": "code",
   "execution_count": 28,
   "id": "5030c788",
   "metadata": {
    "deletable": false,
    "editable": false,
    "nbgrader": {
     "cell_type": "code",
     "checksum": "95488261a05253d8e9e673522cc71530",
     "grade": true,
     "grade_id": "cell-5571dc0cee5cac5c",
     "locked": true,
     "points": 1,
     "schema_version": 3,
     "solution": false,
     "task": false
    }
   },
   "outputs": [
    {
     "name": "stdout",
     "output_type": "stream",
     "text": [
      "Problem 2b Test 2: Success!\n"
     ]
    }
   ],
   "source": [
    "\"Verify values lambda_max and lambda_min. This cell contains hidden tests. (1 mark)\"\n",
    "assert lambda_max > 0\n",
    "assert lambda_min > 0\n",
    "print(\"Problem 2b Test 2: Success!\")"
   ]
  },
  {
   "cell_type": "markdown",
   "id": "c2022d86",
   "metadata": {
    "deletable": false,
    "editable": false,
    "nbgrader": {
     "cell_type": "markdown",
     "checksum": "6e6851ab1d5827eb2ebeaa3f22a65c50",
     "grade": false,
     "grade_id": "cell-dfdb35cb595b672a",
     "locked": true,
     "schema_version": 3,
     "solution": false,
     "task": false
    }
   },
   "source": [
    "(c) The condition number of $A_1$ is given by $\\mathrm{cond}(A_1) = \\sqrt{\\lambda_{max}/\\lambda_{min}}$ where $\\lambda_{max}$ and $\\lambda_{min}$ are the maximum and minimum (nonzero) eigenvalues of $A_1A_1^T$. Compute the value $\\sqrt{\\lambda_{max}/\\lambda_{min}}$ and save the result as `C`."
   ]
  },
  {
   "cell_type": "code",
   "execution_count": 31,
   "id": "c2deb6d5",
   "metadata": {
    "deletable": false,
    "nbgrader": {
     "cell_type": "code",
     "checksum": "29bd572200e34f43e7669ec67cb48269",
     "grade": false,
     "grade_id": "cell-216a34a802b709d9",
     "locked": false,
     "schema_version": 3,
     "solution": true,
     "task": false
    }
   },
   "outputs": [
    {
     "data": {
      "text/plain": [
       "57688.70532833951"
      ]
     },
     "execution_count": 31,
     "metadata": {},
     "output_type": "execute_result"
    }
   ],
   "source": [
    "# YOUR CODE HERE\n",
    "C = np.sqrt(lambda_max/lambda_min)\n",
    "C"
   ]
  },
  {
   "cell_type": "code",
   "execution_count": 30,
   "id": "20ebe1f4",
   "metadata": {
    "deletable": false,
    "editable": false,
    "nbgrader": {
     "cell_type": "code",
     "checksum": "d24a9def9e9c86bc6f1aec1d52d0959e",
     "grade": true,
     "grade_id": "cell-0d49f2891797d3f9",
     "locked": true,
     "points": 1,
     "schema_version": 3,
     "solution": false,
     "task": false
    }
   },
   "outputs": [
    {
     "name": "stdout",
     "output_type": "stream",
     "text": [
      "Problem 2c Test 1: Success!\n"
     ]
    }
   ],
   "source": [
    "\"Verify value of C. This cell contains hidden tests. (1 mark)\"\n",
    "assert C > 1e4\n",
    "print(\"Problem 2c Test 1: Success!\")"
   ]
  },
  {
   "cell_type": "markdown",
   "id": "5d2ddef7",
   "metadata": {
    "deletable": false,
    "editable": false,
    "nbgrader": {
     "cell_type": "markdown",
     "checksum": "2a59543cdaa8a75f22b72cdc71b4e1d1",
     "grade": false,
     "grade_id": "cell-e52d758c178ef3b8",
     "locked": true,
     "schema_version": 3,
     "solution": false,
     "task": false
    }
   },
   "source": [
    "## Problem 3 (5 marks)\n",
    "\n",
    "The following code imports the digits dataset from [sklearn](https://scikit-learn.org/stable/) and selects the subset of the data correpsonding to the digit `9`.\n",
    "\n",
    "    data = datasets.load_digits()\n",
    "    X = data['data']\n",
    "    y = data['target']\n",
    "    X9 = X[y == 9] # This line selects the rows corresponding to 9s\n",
    "\n",
    "Copy, paste and modify this code to find the first weight vector for the data consisting of the digit `4`. Use the code from [MATH 307 notebook on PCA](https://ubcmath.github.io/MATH307/notebooks/07_pca.html). Reshape the first weight vector as a 8 by 8 matrix and save the result as `W`."
   ]
  },
  {
   "cell_type": "code",
   "execution_count": null,
   "id": "27cfc3ec",
   "metadata": {
    "deletable": false,
    "nbgrader": {
     "cell_type": "code",
     "checksum": "a9d84f23a8777d05cadd8d645cf6a212",
     "grade": false,
     "grade_id": "cell-c91be5433d631aac",
     "locked": false,
     "schema_version": 3,
     "solution": true,
     "task": false
    }
   },
   "outputs": [],
   "source": [
    "from sklearn import datasets\n",
    "\n",
    "# YOUR CODE HERE\n",
    "W = "
   ]
  },
  {
   "cell_type": "code",
   "execution_count": null,
   "id": "5f8f4208",
   "metadata": {
    "deletable": false,
    "editable": false,
    "nbgrader": {
     "cell_type": "code",
     "checksum": "bcb5e02afaceae70eb38880fd5a97cd1",
     "grade": true,
     "grade_id": "cell-6c9fdf747a75b243",
     "locked": true,
     "points": 1,
     "schema_version": 3,
     "solution": false,
     "task": false
    }
   },
   "outputs": [],
   "source": [
    "\"Verify W is a NumPy array. (1 mark)\"\n",
    "assert isinstance(W,np.ndarray)\n",
    "print(\"Problem 3 Test 1: Success!\")"
   ]
  },
  {
   "cell_type": "code",
   "execution_count": null,
   "id": "72504887",
   "metadata": {
    "deletable": false,
    "editable": false,
    "nbgrader": {
     "cell_type": "code",
     "checksum": "a862ce2acad83132dd0f37ba2bafc6bc",
     "grade": true,
     "grade_id": "cell-521a0e4430518a7e",
     "locked": true,
     "points": 1,
     "schema_version": 3,
     "solution": false,
     "task": false
    }
   },
   "outputs": [],
   "source": [
    "\"Verify W has the correct size. (1 mark)\"\n",
    "assert W.shape == (8,8)\n",
    "print(\"Problem 3 Test 2: Success!\")"
   ]
  },
  {
   "cell_type": "code",
   "execution_count": null,
   "id": "0b255422",
   "metadata": {
    "deletable": false,
    "editable": false,
    "nbgrader": {
     "cell_type": "code",
     "checksum": "3f4ab2b2c26b2fc229ae35e0c7eb5883",
     "grade": true,
     "grade_id": "cell-a8063b9458cc4efc",
     "locked": true,
     "points": 3,
     "schema_version": 3,
     "solution": false,
     "task": false
    }
   },
   "outputs": [],
   "source": [
    "\"Verify W has correct values (up to absolute value). This cell contains hidden tests. (3 marks)\"\n",
    "assert np.allclose(np.abs(W[4:6,4:6]),np.abs(np.array([[0.15131046, 0.05404152],[0.00949909, 0.27111392]])))\n",
    "print(\"Problem 3 Test 3: Success!\")"
   ]
  },
  {
   "cell_type": "markdown",
   "id": "d53c9df3",
   "metadata": {
    "deletable": false,
    "editable": false,
    "nbgrader": {
     "cell_type": "markdown",
     "checksum": "cfbf96444b77d518b5d28b0abb6f8f23",
     "grade": false,
     "grade_id": "cell-b2721301f76b3451",
     "locked": true,
     "schema_version": 3,
     "solution": false,
     "task": false
    }
   },
   "source": [
    "Visualize the weight vector:"
   ]
  },
  {
   "cell_type": "code",
   "execution_count": null,
   "id": "658e9e33",
   "metadata": {
    "deletable": false,
    "editable": false,
    "nbgrader": {
     "cell_type": "code",
     "checksum": "3a9484ed3634e81f6b26add485fb292f",
     "grade": false,
     "grade_id": "cell-b2eaa225f9c51104",
     "locked": true,
     "schema_version": 3,
     "solution": false,
     "task": false
    }
   },
   "outputs": [],
   "source": [
    "plt.imshow(W,cmap='binary',interpolation='gaussian')\n",
    "plt.show()"
   ]
  },
  {
   "cell_type": "markdown",
   "id": "26f09b41",
   "metadata": {
    "deletable": false,
    "editable": false,
    "nbgrader": {
     "cell_type": "markdown",
     "checksum": "941f17aaae44cecd5234cca173c48b3d",
     "grade": false,
     "grade_id": "cell-9db1362592086fd0",
     "locked": true,
     "schema_version": 3,
     "solution": false,
     "task": false
    }
   },
   "source": [
    "## Problem 4 (10 marks)\n",
    "\n",
    "The SVD of a matrix $A = P \\Sigma Q^T$ yields a formula for $A$ as a sum of rank one matrices\n",
    "\n",
    "$$\n",
    "A = \\sigma_1 \\mathbf{p}_1 \\mathbf{q}_1^T + \\cdots + \\sigma_r \\mathbf{p}_r \\mathbf{q}_r^T\n",
    "$$\n",
    "\n",
    "The truncated SVD of rank $k \\leq r$ is given by\n",
    "\n",
    "$$\n",
    "A_k = \\sigma_1 \\mathbf{p}_1 \\mathbf{q}_1^T + \\cdots + \\sigma_k \\mathbf{p}_k \\mathbf{q}_k^T\n",
    "$$\n",
    "\n",
    "Note that the product of vectors $\\mathbf{p} \\mathbf{q}^T$ is called the outer product. Use the function [`numpy.outer`](https://numpy.org/doc/stable/reference/generated/numpy.outer.html) to compute the outer product of vectors.\n",
    "\n",
    "The following cell creates a Toeplitz matrix $A$ of size $N$."
   ]
  },
  {
   "cell_type": "code",
   "execution_count": null,
   "id": "3603b48f",
   "metadata": {
    "deletable": false,
    "editable": false,
    "nbgrader": {
     "cell_type": "code",
     "checksum": "320aae743358e47949aae74e27758641",
     "grade": false,
     "grade_id": "cell-0b017af901a1e04f",
     "locked": true,
     "schema_version": 3,
     "solution": false,
     "task": false
    }
   },
   "outputs": [],
   "source": [
    "N = 16\n",
    "c = np.zeros(N)\n",
    "c[:4] = np.array([1.0,0.75,0.5,0.25])\n",
    "A = la.toeplitz(c)\n",
    "plt.imshow(A,cmap='binary')\n",
    "plt.colorbar()\n",
    "plt.show()"
   ]
  },
  {
   "cell_type": "markdown",
   "id": "ee79fa2b",
   "metadata": {
    "deletable": false,
    "editable": false,
    "nbgrader": {
     "cell_type": "markdown",
     "checksum": "e2345a63d9cad9a1b5f317ae7935e42b",
     "grade": false,
     "grade_id": "cell-0edb1d3f147353c2",
     "locked": true,
     "schema_version": 3,
     "solution": false,
     "task": false
    }
   },
   "source": [
    "(a) Compute the SVD of $A$, compute $\\sigma_1 \\mathbf{p}_1 \\mathbf{q}_1^T$ and save the result as `s1p1q1T`. Recall, in Python, array indices begin at 0 not 1."
   ]
  },
  {
   "cell_type": "code",
   "execution_count": null,
   "id": "bd0a4079",
   "metadata": {
    "deletable": false,
    "nbgrader": {
     "cell_type": "code",
     "checksum": "689b95f7de627c5f3d439a413923af0c",
     "grade": false,
     "grade_id": "cell-b65cb4d532acb738",
     "locked": false,
     "schema_version": 3,
     "solution": true,
     "task": false
    }
   },
   "outputs": [],
   "source": [
    "# YOUR CODE HERE\n",
    "s1p1q1T = "
   ]
  },
  {
   "cell_type": "code",
   "execution_count": null,
   "id": "56e9d4da",
   "metadata": {
    "deletable": false,
    "editable": false,
    "nbgrader": {
     "cell_type": "code",
     "checksum": "f1c9fe61a9f013b0a68d1a6da3270d0f",
     "grade": true,
     "grade_id": "cell-bae249b126a8ca18",
     "locked": true,
     "points": 1,
     "schema_version": 3,
     "solution": false,
     "task": false
    }
   },
   "outputs": [],
   "source": [
    "\"Verify s1p1q1T is a NumPy array. (1 mark)\"\n",
    "assert isinstance(s1p1q1T,np.ndarray)\n",
    "print(\"Problem 4a Test 1: Success!\")"
   ]
  },
  {
   "cell_type": "code",
   "execution_count": null,
   "id": "c7ff2a5d",
   "metadata": {
    "deletable": false,
    "editable": false,
    "nbgrader": {
     "cell_type": "code",
     "checksum": "c22096e45ebf79f0ca63cace836d29ea",
     "grade": true,
     "grade_id": "cell-e01f253772ab98f1",
     "locked": true,
     "points": 1,
     "schema_version": 3,
     "solution": false,
     "task": false
    }
   },
   "outputs": [],
   "source": [
    "\"Verify s1p1q1T is the correct size. (1 mark)\"\n",
    "assert s1p1q1T.shape == (16,16)\n",
    "print(\"Problem 4a Test 2: Success!\")"
   ]
  },
  {
   "cell_type": "code",
   "execution_count": null,
   "id": "4d906f57",
   "metadata": {
    "deletable": false,
    "editable": false,
    "nbgrader": {
     "cell_type": "code",
     "checksum": "e6f53f69e450101425c48ef1b9f3ff53",
     "grade": true,
     "grade_id": "cell-5863d45fc39071ad",
     "locked": true,
     "points": 1,
     "schema_version": 3,
     "solution": false,
     "task": false
    }
   },
   "outputs": [],
   "source": [
    "\"Verify s1p1q1T has the correct values. This cell contains hidden tests. (1 mark)\"\n",
    "assert np.allclose(s1p1q1T[:2,:2],np.array([[0.03147122, 0.04833746],[0.04833746, 0.07424275]]))\n",
    "print(\"Problem 4a Test 3: Success!\")"
   ]
  },
  {
   "cell_type": "markdown",
   "id": "b30dcdb5",
   "metadata": {
    "deletable": false,
    "editable": false,
    "nbgrader": {
     "cell_type": "markdown",
     "checksum": "5301fe85e9d7f34bc5a36156102539fe",
     "grade": false,
     "grade_id": "cell-8e111645088f134e",
     "locked": true,
     "schema_version": 3,
     "solution": false,
     "task": false
    }
   },
   "source": [
    "(b) Plot the matrix $\\sigma_k \\mathbf{p}_k \\mathbf{q}_k^T$ for different values $k$ using the code\n",
    "\n",
    "    skpkqkT = # Modify your code from part (a)\n",
    "    plt.imshow(skpkqkT,cmap='binary')\n",
    "    plt.colorbar()\n",
    "    plt.show()\n",
    "\n",
    "Based on your observations, determine whether the following statement is `True` or `False`:\n",
    "\n",
    "> As $k$ increases, the matrix $\\sigma_k \\mathbf{p}_k \\mathbf{q}_k^T$ contains higher frequency data. In other words, as $k$ increases, the entries in the matrix oscillate more quickly from entry to entry across the matrix.\n",
    "\n",
    "Save your response to the variable `observation4b`."
   ]
  },
  {
   "cell_type": "code",
   "execution_count": null,
   "id": "17b5103e",
   "metadata": {
    "deletable": false,
    "nbgrader": {
     "cell_type": "code",
     "checksum": "04cca41d1968f85cce00900a0626c516",
     "grade": false,
     "grade_id": "cell-190dc2cfd5cf03a5",
     "locked": false,
     "schema_version": 3,
     "solution": true,
     "task": false
    }
   },
   "outputs": [],
   "source": [
    "# YOUR CODE HERE\n",
    "observation4b = "
   ]
  },
  {
   "cell_type": "code",
   "execution_count": null,
   "id": "ad419c55",
   "metadata": {
    "deletable": false,
    "editable": false,
    "nbgrader": {
     "cell_type": "code",
     "checksum": "66fe03ac5a853270e3c1a2325ee2b4d1",
     "grade": true,
     "grade_id": "cell-d372157f014642c4",
     "locked": true,
     "points": 1,
     "schema_version": 3,
     "solution": false,
     "task": false
    }
   },
   "outputs": [],
   "source": [
    "\"Verify observation4b is defined as True or False (boolean value). (1 mark)\"\n",
    "assert isinstance(observation4b,bool)\n",
    "print(\"Problem 4b Test 1: Success!\")"
   ]
  },
  {
   "cell_type": "code",
   "execution_count": null,
   "id": "f46758da",
   "metadata": {
    "deletable": false,
    "editable": false,
    "nbgrader": {
     "cell_type": "code",
     "checksum": "bee3836e7a29fb4c10b9f229792ef9a7",
     "grade": true,
     "grade_id": "cell-c37f48a853f52698",
     "locked": true,
     "points": 1,
     "schema_version": 3,
     "solution": false,
     "task": false
    }
   },
   "outputs": [],
   "source": [
    "\"Verify observation4b has correct value. This cell contains hidden tests. (1 mark)\"\n",
    "assert isinstance(observation4b,bool)\n",
    "print(\"Problem 4b Test 2: Success!\")"
   ]
  },
  {
   "cell_type": "markdown",
   "id": "7b4d4e8d",
   "metadata": {
    "deletable": false,
    "editable": false,
    "nbgrader": {
     "cell_type": "markdown",
     "checksum": "a731d758fa891587a55c4699761210a6",
     "grade": false,
     "grade_id": "cell-624ed4804011e034",
     "locked": true,
     "schema_version": 3,
     "solution": false,
     "task": false
    }
   },
   "source": [
    "(c) Use `plt.plot(S,'.b')` to plot the singular values of $A$ as a scatter plot. How many singular values are greater than $1$? Save your response as `n_singular_values`."
   ]
  },
  {
   "cell_type": "code",
   "execution_count": null,
   "id": "caf0a604",
   "metadata": {
    "deletable": false,
    "nbgrader": {
     "cell_type": "code",
     "checksum": "5d2656b123f3bb08917c4ecc88136c61",
     "grade": false,
     "grade_id": "cell-15e691b495dccdd8",
     "locked": false,
     "schema_version": 3,
     "solution": true,
     "task": false
    }
   },
   "outputs": [],
   "source": [
    "# YOUR CODE HERE\n",
    "n_singular_values = "
   ]
  },
  {
   "cell_type": "code",
   "execution_count": null,
   "id": "d0b88632",
   "metadata": {
    "deletable": false,
    "editable": false,
    "nbgrader": {
     "cell_type": "code",
     "checksum": "9e8ce9f60223fc31ae284d2bc3110e02",
     "grade": true,
     "grade_id": "cell-5addd6f978a19b8e",
     "locked": true,
     "points": 1,
     "schema_version": 3,
     "solution": false,
     "task": false
    }
   },
   "outputs": [],
   "source": [
    "\"Verify n_singular_values is defined as an integer. (1 mark)\"\n",
    "assert isinstance(n_singular_values,int)\n",
    "print(\"Problem 4c Test 1: Success!\")"
   ]
  },
  {
   "cell_type": "code",
   "execution_count": null,
   "id": "47d5d5aa",
   "metadata": {
    "deletable": false,
    "editable": false,
    "nbgrader": {
     "cell_type": "code",
     "checksum": "e9b98f2c14ec668d76716c9eba404f1f",
     "grade": true,
     "grade_id": "cell-b39bc1c2ca7ef846",
     "locked": true,
     "points": 1,
     "schema_version": 3,
     "solution": false,
     "task": false
    }
   },
   "outputs": [],
   "source": [
    "\"Verify n_singular_values has correct value. This cell contains hidden tests. (1 mark)\"\n",
    "assert isinstance(n_singular_values,int)\n",
    "print(\"Problem 4c Test 2: Success!\")"
   ]
  },
  {
   "cell_type": "markdown",
   "id": "7f6aff06",
   "metadata": {
    "deletable": false,
    "editable": false,
    "nbgrader": {
     "cell_type": "markdown",
     "checksum": "4aad39685e60611eb5522b7bd87ea00e",
     "grade": false,
     "grade_id": "cell-3643be8c644820f9",
     "locked": true,
     "schema_version": 3,
     "solution": false,
     "task": false
    }
   },
   "source": [
    "(d) The following code computes the truncated SVD $A_k$\n",
    "\n",
    "    Ak = sum([S[i]*np.outer(P[:,i],QT[i,:]) for i in range(0,k)])\n",
    "\n",
    "Copy, paste and modify the code to compute the truncated pseudoinverse\n",
    "\n",
    "$$\n",
    "A_k^+ = \\frac{1}{\\sigma_1} \\mathbf{q}_1 \\mathbf{p}_1^T + \\cdots + \\frac{1}{\\sigma_k} \\mathbf{q}_k \\mathbf{p}_k^T\n",
    "$$\n",
    "\n",
    "where $k$ is the number found in part (c). In other words, $\\sigma_1,\\dots,\\sigma_k > 1$ and $\\sigma_m \\leq 1$ for $m > k$. Save the result as `Ak_plus`."
   ]
  },
  {
   "cell_type": "code",
   "execution_count": null,
   "id": "fd1e0274",
   "metadata": {
    "deletable": false,
    "nbgrader": {
     "cell_type": "code",
     "checksum": "858195ce7b36fd7cde9748316177e253",
     "grade": false,
     "grade_id": "cell-6a897a9ca430e513",
     "locked": false,
     "schema_version": 3,
     "solution": true,
     "task": false
    }
   },
   "outputs": [],
   "source": [
    "# YOUR CODE HERE\n",
    "Ak_plus = "
   ]
  },
  {
   "cell_type": "code",
   "execution_count": null,
   "id": "7a7e223a",
   "metadata": {
    "deletable": false,
    "editable": false,
    "nbgrader": {
     "cell_type": "code",
     "checksum": "706ef9792205dd96f1f6a9763534a248",
     "grade": true,
     "grade_id": "cell-0d9df0649969cfab",
     "locked": true,
     "points": 1,
     "schema_version": 3,
     "solution": false,
     "task": false
    }
   },
   "outputs": [],
   "source": [
    "\"Verify Ak_plus is a 16 by 16 NumPy array. (1 mark)\"\n",
    "assert isinstance(Ak_plus,np.ndarray)\n",
    "assert Ak_plus.shape == (16,16)\n",
    "print(\"Problem 4d Test 1: Success!\")"
   ]
  },
  {
   "cell_type": "code",
   "execution_count": null,
   "id": "b59cab8d",
   "metadata": {
    "deletable": false,
    "editable": false,
    "nbgrader": {
     "cell_type": "code",
     "checksum": "cfa6baf29dcc1d14234de701366ae123",
     "grade": true,
     "grade_id": "cell-12f588f1e0becd24",
     "locked": true,
     "points": 2,
     "schema_version": 3,
     "solution": false,
     "task": false
    }
   },
   "outputs": [],
   "source": [
    "\"Verify Ak_plus has the correct values. This cell contains hidden tests. (2 marks)\"\n",
    "assert np.allclose(Ak_plus[:2,:2],np.array([[0.19102766,  0.16831285],[0.16831285,  0.16005372]]))\n",
    "print(\"Problem 4d Test 2: Success!\")"
   ]
  }
 ],
 "metadata": {
  "kernelspec": {
   "display_name": "Python 3 (ipykernel)",
   "language": "python",
   "name": "python3"
  },
  "language_info": {
   "codemirror_mode": {
    "name": "ipython",
    "version": 3
   },
   "file_extension": ".py",
   "mimetype": "text/x-python",
   "name": "python",
   "nbconvert_exporter": "python",
   "pygments_lexer": "ipython3",
   "version": "3.10.13"
  }
 },
 "nbformat": 4,
 "nbformat_minor": 5
}
