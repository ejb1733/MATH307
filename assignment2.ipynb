{
 "cells": [
  {
   "cell_type": "markdown",
   "id": "f571f57c",
   "metadata": {
    "deletable": false,
    "editable": false,
    "nbgrader": {
     "cell_type": "markdown",
     "checksum": "54f2f7b92cc18e0941ab2f9c008ab69f",
     "grade": false,
     "grade_id": "cell-302bc79bfc42d310",
     "locked": true,
     "schema_version": 3,
     "solution": false,
     "task": false
    }
   },
   "source": [
    "# MATH 307 Assignment 2\n",
    "\n",
    "* See [Mathematical Python](https://patrickwalls.github.io/mathematicalpython/) for an introduction to Python and Jupyter\n",
    "* See [MATH 307 Jupyter Notebooks](https://ubcmath.github.io/MATH307/) for examples\n",
    "* Run the tests to verify your solutions\n",
    "* There are **hidden tests** therefore your solutions may not be entirely correct even if they pass the tests below\n",
    "* Submit your `.ipynb` notebook file to Canvas"
   ]
  },
  {
   "cell_type": "code",
   "execution_count": 3,
   "id": "b56303f3",
   "metadata": {
    "deletable": false,
    "editable": false,
    "nbgrader": {
     "cell_type": "code",
     "checksum": "59e46d482d06539dac21beb67052e23c",
     "grade": false,
     "grade_id": "cell-4f016963b5cc0413",
     "locked": true,
     "schema_version": 3,
     "solution": false,
     "task": false
    }
   },
   "outputs": [],
   "source": [
    "import numpy as np\n",
    "import scipy.linalg as la\n",
    "import matplotlib.pyplot as plt\n",
    "import matplotlib as mpl\n",
    "mpl.rc('image', cmap='RdBu')"
   ]
  },
  {
   "cell_type": "markdown",
   "id": "1ea142d9",
   "metadata": {
    "deletable": false,
    "editable": false,
    "nbgrader": {
     "cell_type": "markdown",
     "checksum": "830eb843d5a9448c1d3623b7508dc44d",
     "grade": false,
     "grade_id": "cell-c07689bcd958386a",
     "locked": true,
     "schema_version": 3,
     "solution": false,
     "task": false
    }
   },
   "source": [
    "## Problem 1 (6 marks)\n",
    "\n",
    "A [Toeplitz matrix](https://en.wikipedia.org/wiki/Toeplitz_matrix) has constant values along the diagonals. The function `scipy.linalg.toeplitz` creates a Toeplitz matrix from a given vector. For example:"
   ]
  },
  {
   "cell_type": "code",
   "execution_count": 3,
   "id": "d514833d",
   "metadata": {
    "deletable": false,
    "editable": false,
    "nbgrader": {
     "cell_type": "code",
     "checksum": "5d58ef8ef5e1fe001d5d0e6285ac166e",
     "grade": false,
     "grade_id": "cell-dc7622731dc46299",
     "locked": true,
     "schema_version": 3,
     "solution": false,
     "task": false
    }
   },
   "outputs": [
    {
     "name": "stdout",
     "output_type": "stream",
     "text": [
      "[[-2  1  0  0  0  0  0]\n",
      " [ 1 -2  1  0  0  0  0]\n",
      " [ 0  1 -2  1  0  0  0]\n",
      " [ 0  0  1 -2  1  0  0]\n",
      " [ 0  0  0  1 -2  1  0]\n",
      " [ 0  0  0  0  1 -2  1]\n",
      " [ 0  0  0  0  0  1 -2]]\n"
     ]
    }
   ],
   "source": [
    "M = la.toeplitz([-2,1,0,0,0,0,0])\n",
    "print(M)"
   ]
  },
  {
   "cell_type": "markdown",
   "id": "3c8bff29",
   "metadata": {
    "deletable": false,
    "editable": false,
    "nbgrader": {
     "cell_type": "markdown",
     "checksum": "a402722168e10b0415df2288db1905a4",
     "grade": false,
     "grade_id": "cell-b9c012b3c9ae8af8",
     "locked": true,
     "schema_version": 3,
     "solution": false,
     "task": false
    }
   },
   "source": [
    "* Use the function `numpy.linalg.matrix_rank` to compute the rank of a matrix\n",
    "* The nullspace of $M$ is denoted $N(M)$\n",
    "* The range of $M$ is denoted $R(M)$"
   ]
  },
  {
   "cell_type": "markdown",
   "id": "efc043ee",
   "metadata": {
    "deletable": false,
    "editable": false,
    "nbgrader": {
     "cell_type": "markdown",
     "checksum": "d733badd4016c3f39cf1ec675df9772c",
     "grade": false,
     "grade_id": "cell-e7580c7ae13905b2",
     "locked": true,
     "schema_version": 3,
     "solution": false,
     "task": false
    }
   },
   "source": [
    "### Problem 1a (2 marks)\n",
    "\n",
    "Compute the dimensions of $N(M_1)$ and $R(M_1)$ for the matrix $M_1$ below. Save responses as `nullspace_M1` and `range_M1` respectively."
   ]
  },
  {
   "cell_type": "code",
   "execution_count": 4,
   "id": "75e40144",
   "metadata": {
    "deletable": false,
    "editable": false,
    "nbgrader": {
     "cell_type": "code",
     "checksum": "e23f861f867cadd5dd2e5004a03befe3",
     "grade": false,
     "grade_id": "cell-22c0ac1405367851",
     "locked": true,
     "schema_version": 3,
     "solution": false,
     "task": false
    }
   },
   "outputs": [
    {
     "name": "stdout",
     "output_type": "stream",
     "text": [
      "[[1 1 0 0 0 0 0 1]\n",
      " [1 1 1 0 0 0 0 0]\n",
      " [0 1 1 1 0 0 0 0]\n",
      " [0 0 1 1 1 0 0 0]\n",
      " [0 0 0 1 1 1 0 0]\n",
      " [0 0 0 0 1 1 1 0]\n",
      " [0 0 0 0 0 1 1 1]\n",
      " [1 0 0 0 0 0 1 1]]\n"
     ]
    },
    {
     "data": {
      "text/plain": [
       "8"
      ]
     },
     "execution_count": 4,
     "metadata": {},
     "output_type": "execute_result"
    }
   ],
   "source": [
    "M1 = la.toeplitz([1,1,0,0,0,0,0,1])\n",
    "print(M1)\n",
    "\n",
    "rank_M1 = np.linalg.matrix_rank(M1)\n",
    "rank_M1"
   ]
  },
  {
   "cell_type": "code",
   "execution_count": 5,
   "id": "aa7d67d0",
   "metadata": {
    "deletable": false,
    "nbgrader": {
     "cell_type": "code",
     "checksum": "3141d54b588e5083dcdc489ff18537b1",
     "grade": false,
     "grade_id": "cell-47c828aad9d9bb00",
     "locked": false,
     "schema_version": 3,
     "solution": true,
     "task": false
    }
   },
   "outputs": [],
   "source": [
    "# YOUR CODE HERE\n",
    "nullspace_M1 = 0\n",
    "range_M1 = 8"
   ]
  },
  {
   "cell_type": "code",
   "execution_count": 6,
   "id": "087bb2a0",
   "metadata": {
    "deletable": false,
    "editable": false,
    "nbgrader": {
     "cell_type": "code",
     "checksum": "d11f6aacb50a6877b688b667071a8ff5",
     "grade": true,
     "grade_id": "cell-3a4a194ab54daa87",
     "locked": true,
     "points": 1,
     "schema_version": 3,
     "solution": false,
     "task": false
    }
   },
   "outputs": [
    {
     "name": "stdout",
     "output_type": "stream",
     "text": [
      "Problem 1a Test 1: Success!\n"
     ]
    }
   ],
   "source": [
    "\"Verify nullspace_M1 and range_M1 are non-negative numbers. (1 mark)\"\n",
    "assert nullspace_M1 >= 0 and range_M1 >= 0\n",
    "print(\"Problem 1a Test 1: Success!\")"
   ]
  },
  {
   "cell_type": "code",
   "execution_count": 7,
   "id": "254a87d7",
   "metadata": {
    "deletable": false,
    "editable": false,
    "nbgrader": {
     "cell_type": "code",
     "checksum": "26ae9cd1f9b1331c6672e956923dc79f",
     "grade": true,
     "grade_id": "cell-cf424c49ee898a9b",
     "locked": true,
     "points": 1,
     "schema_version": 3,
     "solution": false,
     "task": false
    }
   },
   "outputs": [
    {
     "name": "stdout",
     "output_type": "stream",
     "text": [
      "Problem 1a Test 2: Success!\n"
     ]
    }
   ],
   "source": [
    "\"Verify values of nullspace_M1 and range_M1. This cell contains hidden tests. (1 mark)\"\n",
    "assert nullspace_M1 >= 0 and range_M1 >= 0\n",
    "print(\"Problem 1a Test 2: Success!\")"
   ]
  },
  {
   "cell_type": "markdown",
   "id": "00d9c29f",
   "metadata": {
    "deletable": false,
    "editable": false,
    "nbgrader": {
     "cell_type": "markdown",
     "checksum": "03967ac0f4c112567a7e75350ca523ea",
     "grade": false,
     "grade_id": "cell-774b3b7e69d23263",
     "locked": true,
     "schema_version": 3,
     "solution": false,
     "task": false
    }
   },
   "source": [
    "### Problem 1b (2 marks)\n",
    "\n",
    "Compute the dimensions of $N(M_2)$ and $R(M_2)$ for the matrix $M_2$ below. Save responses as `nullspace_M2` and `range_M2` respectively."
   ]
  },
  {
   "cell_type": "code",
   "execution_count": 8,
   "id": "6eda3f9c",
   "metadata": {
    "deletable": false,
    "editable": false,
    "nbgrader": {
     "cell_type": "code",
     "checksum": "5998c88d7ba5d0b0ba8ec6de48140fe1",
     "grade": false,
     "grade_id": "cell-30db1e224c56dba6",
     "locked": true,
     "schema_version": 3,
     "solution": false,
     "task": false
    }
   },
   "outputs": [
    {
     "name": "stdout",
     "output_type": "stream",
     "text": [
      "[[2 1 1 0 0 0 1 1]\n",
      " [1 2 1 1 0 0 0 1]\n",
      " [1 1 2 1 1 0 0 0]\n",
      " [0 1 1 2 1 1 0 0]\n",
      " [0 0 1 1 2 1 1 0]\n",
      " [0 0 0 1 1 2 1 1]\n",
      " [1 0 0 0 1 1 2 1]\n",
      " [1 1 0 0 0 1 1 2]]\n"
     ]
    },
    {
     "data": {
      "text/plain": [
       "6"
      ]
     },
     "execution_count": 8,
     "metadata": {},
     "output_type": "execute_result"
    }
   ],
   "source": [
    "M2 = la.toeplitz([2,1,1,0,0,0,1,1])\n",
    "print(M2)\n",
    "\n",
    "rank_M2 = np.linalg.matrix_rank(M2)\n",
    "rank_M2"
   ]
  },
  {
   "cell_type": "code",
   "execution_count": 9,
   "id": "00930cda",
   "metadata": {
    "deletable": false,
    "nbgrader": {
     "cell_type": "code",
     "checksum": "e6cd3f2c422f45d21d1f7377cb9c6610",
     "grade": false,
     "grade_id": "cell-6c82573446f0d349",
     "locked": false,
     "schema_version": 3,
     "solution": true,
     "task": false
    }
   },
   "outputs": [],
   "source": [
    "# YOUR CODE HERE\n",
    "nullspace_M2 = 2\n",
    "range_M2 = 6"
   ]
  },
  {
   "cell_type": "code",
   "execution_count": 10,
   "id": "a809c11f",
   "metadata": {
    "deletable": false,
    "editable": false,
    "nbgrader": {
     "cell_type": "code",
     "checksum": "4a10fb429f4aa0ac44608c46c6c12b90",
     "grade": true,
     "grade_id": "cell-2c9cb136a3c6d37c",
     "locked": true,
     "points": 1,
     "schema_version": 3,
     "solution": false,
     "task": false
    }
   },
   "outputs": [
    {
     "name": "stdout",
     "output_type": "stream",
     "text": [
      "Problem 1b Test 1: Success!\n"
     ]
    }
   ],
   "source": [
    "\"Verify nullspace_M2 and range_M2 are non-negative numbers. (1 mark)\"\n",
    "assert nullspace_M2 >= 0 and range_M2 >= 0\n",
    "print(\"Problem 1b Test 1: Success!\")"
   ]
  },
  {
   "cell_type": "code",
   "execution_count": 11,
   "id": "9c9dad30",
   "metadata": {
    "deletable": false,
    "editable": false,
    "nbgrader": {
     "cell_type": "code",
     "checksum": "355c1a341d95edb66ba2bf85d409c1f2",
     "grade": true,
     "grade_id": "cell-56db7cdb7ebbf6ed",
     "locked": true,
     "points": 1,
     "schema_version": 3,
     "solution": false,
     "task": false
    }
   },
   "outputs": [
    {
     "name": "stdout",
     "output_type": "stream",
     "text": [
      "Problem 1b Test 2: Success!\n"
     ]
    }
   ],
   "source": [
    "\"Verify values of nullspace_M2 and range_M2. This cell contains hidden tests. (1 mark)\"\n",
    "assert nullspace_M2 >= 0 and range_M2 >= 0\n",
    "print(\"Problem 1b Test 2: Success!\")"
   ]
  },
  {
   "cell_type": "markdown",
   "id": "45275e7a",
   "metadata": {
    "deletable": false,
    "editable": false,
    "nbgrader": {
     "cell_type": "markdown",
     "checksum": "81e55c22faeec9d4e15f97d0d69b0c9e",
     "grade": false,
     "grade_id": "cell-c1cb3796f4db8ba7",
     "locked": true,
     "schema_version": 3,
     "solution": false,
     "task": false
    }
   },
   "source": [
    "### Problem 1c (2 marks)\n",
    "\n",
    "Compute the dimensions of $N(M_3)$ and $R(M_3)$ for the matrix $M_3$ below. Save responses as `nullspace_M3` and `range_M3` respectively."
   ]
  },
  {
   "cell_type": "code",
   "execution_count": 12,
   "id": "ba5de31e",
   "metadata": {
    "deletable": false,
    "editable": false,
    "nbgrader": {
     "cell_type": "code",
     "checksum": "584ddbbfc5cdb72954ec4d174406f691",
     "grade": false,
     "grade_id": "cell-3ec40e069cae2fea",
     "locked": true,
     "schema_version": 3,
     "solution": false,
     "task": false
    }
   },
   "outputs": [
    {
     "name": "stdout",
     "output_type": "stream",
     "text": [
      "[[2 2 1 0 0 0 1 2]\n",
      " [2 2 2 1 0 0 0 1]\n",
      " [1 2 2 2 1 0 0 0]\n",
      " [0 1 2 2 2 1 0 0]\n",
      " [0 0 1 2 2 2 1 0]\n",
      " [0 0 0 1 2 2 2 1]\n",
      " [1 0 0 0 1 2 2 2]\n",
      " [2 1 0 0 0 1 2 2]]\n"
     ]
    },
    {
     "data": {
      "text/plain": [
       "5"
      ]
     },
     "execution_count": 12,
     "metadata": {},
     "output_type": "execute_result"
    }
   ],
   "source": [
    "M3 = la.toeplitz([2,2,1,0,0,0,1,2])\n",
    "print(M3)\n",
    "\n",
    "rank_M3 = np.linalg.matrix_rank(M3)\n",
    "rank_M3"
   ]
  },
  {
   "cell_type": "code",
   "execution_count": 13,
   "id": "fd05f9dd",
   "metadata": {
    "deletable": false,
    "nbgrader": {
     "cell_type": "code",
     "checksum": "7121d066fdfa659572b603a3f905064b",
     "grade": false,
     "grade_id": "cell-028eb265830a1c9c",
     "locked": false,
     "schema_version": 3,
     "solution": true,
     "task": false
    }
   },
   "outputs": [],
   "source": [
    "# YOUR CODE HERE\n",
    "nullspace_M3 = 3\n",
    "range_M3 = 5"
   ]
  },
  {
   "cell_type": "code",
   "execution_count": 14,
   "id": "58a3d1ce",
   "metadata": {
    "deletable": false,
    "editable": false,
    "nbgrader": {
     "cell_type": "code",
     "checksum": "fc8664665b8f03aa401ce81bb92f6e84",
     "grade": true,
     "grade_id": "cell-df81e64cd6e8994b",
     "locked": true,
     "points": 1,
     "schema_version": 3,
     "solution": false,
     "task": false
    }
   },
   "outputs": [
    {
     "name": "stdout",
     "output_type": "stream",
     "text": [
      "Problem 1c Test 1: Success!\n"
     ]
    }
   ],
   "source": [
    "\"Verify nullspace_M3 and range_M3 are non-negative numbers. (1 mark)\"\n",
    "assert nullspace_M3 >= 0 and range_M3 >= 0\n",
    "print(\"Problem 1c Test 1: Success!\")"
   ]
  },
  {
   "cell_type": "code",
   "execution_count": 15,
   "id": "56599687",
   "metadata": {
    "deletable": false,
    "editable": false,
    "nbgrader": {
     "cell_type": "code",
     "checksum": "9281c79f29803f70531d7811590f5db3",
     "grade": true,
     "grade_id": "cell-591449a982f85e79",
     "locked": true,
     "points": 1,
     "schema_version": 3,
     "solution": false,
     "task": false
    }
   },
   "outputs": [
    {
     "name": "stdout",
     "output_type": "stream",
     "text": [
      "Problem 1c Test 2: Success!\n"
     ]
    }
   ],
   "source": [
    "\"Verify values of nullspace_M3 and range_M3. This cell contains hidden tests. (1 mark)\"\n",
    "assert nullspace_M3 >= 0 and range_M3 >= 0\n",
    "print(\"Problem 1c Test 2: Success!\")"
   ]
  },
  {
   "cell_type": "markdown",
   "id": "c9c4b62c",
   "metadata": {
    "deletable": false,
    "editable": false,
    "nbgrader": {
     "cell_type": "markdown",
     "checksum": "ce91c8060453b24ca234df94ae6ce92c",
     "grade": false,
     "grade_id": "cell-12587aba8138324e",
     "locked": true,
     "schema_version": 3,
     "solution": false,
     "task": false
    }
   },
   "source": [
    "## Problem 2 (6 marks)\n",
    "\n",
    "The code cells below perform the following tasks:\n",
    "\n",
    "* Create matrices $A_0,\\dots,A_9$ each of size 5 x 3 which represent the digits 0 to 9\n",
    "* Visualize the matrices as 5 x 3 pixel images\n",
    "* Flatten each matrix $A_k$ into a vector $\\mathbf{v}_k$ of length 15 and construct a 15 x 10 matrix $A$ with vectors $\\mathbf{v}_0,\\dots,\\mathbf{v}_9$ in the columns:\n",
    "\n",
    "$$\n",
    "A = \\begin{bmatrix} & & \\\\ \\mathbf{v}_0 & \\cdots & \\mathbf{v}_9 \\\\ & & \\end{bmatrix}\n",
    "$$\n",
    "\n",
    "Use the matrix $A$ to answer the problems (a)-(e) below."
   ]
  },
  {
   "cell_type": "code",
   "execution_count": 16,
   "id": "fc85b29a",
   "metadata": {
    "deletable": false,
    "editable": false,
    "nbgrader": {
     "cell_type": "code",
     "checksum": "659048bc6db7a75df58613abe134ea28",
     "grade": false,
     "grade_id": "cell-7e29ede404190467",
     "locked": true,
     "schema_version": 3,
     "solution": false,
     "task": false
    }
   },
   "outputs": [
    {
     "data": {
      "image/png": "[encoded data removed]",
      "text/plain": [
       "<Figure size 1600x700 with 20 Axes>"
      ]
     },
     "metadata": {},
     "output_type": "display_data"
    }
   ],
   "source": [
    "A0 = np.array([[1.,1.,1.],\n",
    "               [1.,0.,1.],\n",
    "               [1.,0.,1.],\n",
    "               [1.,0.,1.],\n",
    "               [1.,1.,1.]])\n",
    "\n",
    "A1 = np.array([[0.,1.,0.],\n",
    "               [0.,1.,0.],\n",
    "               [0.,1.,0.],\n",
    "               [0.,1.,0.],\n",
    "               [0.,1.,0.]])\n",
    "\n",
    "A2 = np.array([[1.,1.,1.],\n",
    "               [0.,0.,1.],\n",
    "               [1.,1.,1.],\n",
    "               [1.,0.,0.],\n",
    "               [1.,1.,1.]])\n",
    "\n",
    "A3 = np.array([[1.,1.,1.],\n",
    "               [0.,0.,1.],\n",
    "               [0.,1.,1.],\n",
    "               [0.,0.,1.],\n",
    "               [1.,1.,1.]])\n",
    "\n",
    "A4 = np.array([[1.,0.,1.],\n",
    "               [1.,0.,1.],\n",
    "               [1.,1.,1.],\n",
    "               [0.,0.,1.],\n",
    "               [0.,0.,1.]])\n",
    "\n",
    "A5 = np.array([[1.,1.,1.],\n",
    "               [1.,0.,0.],\n",
    "               [1.,1.,1.],\n",
    "               [0.,0.,1.],\n",
    "               [1.,1.,1.]])\n",
    "\n",
    "A6 = np.array([[1.,1.,1.],\n",
    "               [1.,0.,0.],\n",
    "               [1.,1.,1.],\n",
    "               [1.,0.,1.],\n",
    "               [1.,1.,1.]])\n",
    "\n",
    "A7 = np.array([[1.,1.,1.],\n",
    "               [0.,0.,1.],\n",
    "               [0.,0.,1.],\n",
    "               [0.,0.,1.],\n",
    "               [0.,0.,1.]])\n",
    "\n",
    "A8 = np.array([[1.,1.,1.],\n",
    "               [1.,0.,1.],\n",
    "               [1.,1.,1.],\n",
    "               [1.,0.,1.],\n",
    "               [1.,1.,1.]])\n",
    "\n",
    "A9 = np.array([[1.,1.,1.],\n",
    "               [1.,0.,1.],\n",
    "               [1.,1.,1.],\n",
    "               [0.,0.,1.],\n",
    "               [1.,1.,1.]])\n",
    "\n",
    "digits = [A0,A1,A2,A3,A4,A5,A6,A7,A8,A9]\n",
    "plt.figure(figsize=(16,7))\n",
    "for n,digit in enumerate(digits):\n",
    "    plt.subplot(2,5,n+1)\n",
    "    plt.imshow(digit)\n",
    "    plt.title('$A_{}$'.format(n)), plt.colorbar(), plt.clim(-1,1)\n",
    "plt.show()"
   ]
  },
  {
   "cell_type": "markdown",
   "id": "7e08f636",
   "metadata": {
    "deletable": false,
    "editable": false,
    "nbgrader": {
     "cell_type": "markdown",
     "checksum": "f19ddfb833a67eb819d2ed0f036d25fd",
     "grade": false,
     "grade_id": "cell-1b1c7b24a74004d5",
     "locked": true,
     "schema_version": 3,
     "solution": false,
     "task": false
    }
   },
   "source": [
    "Flatten each matrix into a vector of length 15 and put the vectors into the columns of a matrix $A$:"
   ]
  },
  {
   "cell_type": "code",
   "execution_count": 17,
   "id": "fb0891e4",
   "metadata": {
    "deletable": false,
    "editable": false,
    "nbgrader": {
     "cell_type": "code",
     "checksum": "43222b97cf8e3f35460be0fd0d257b49",
     "grade": false,
     "grade_id": "cell-2d46048097241477",
     "locked": true,
     "schema_version": 3,
     "solution": false,
     "task": false
    }
   },
   "outputs": [
    {
     "data": {
      "text/plain": [
       "array([[1., 0., 1., 1., 1., 1., 1., 1., 1., 1.],\n",
       "       [1., 1., 1., 1., 0., 1., 1., 1., 1., 1.],\n",
       "       [1., 0., 1., 1., 1., 1., 1., 1., 1., 1.],\n",
       "       [1., 0., 0., 0., 1., 1., 1., 0., 1., 1.],\n",
       "       [0., 1., 0., 0., 0., 0., 0., 0., 0., 0.],\n",
       "       [1., 0., 1., 1., 1., 0., 0., 1., 1., 1.],\n",
       "       [1., 0., 1., 0., 1., 1., 1., 0., 1., 1.],\n",
       "       [0., 1., 1., 1., 1., 1., 1., 0., 1., 1.],\n",
       "       [1., 0., 1., 1., 1., 1., 1., 1., 1., 1.],\n",
       "       [1., 0., 1., 0., 0., 0., 1., 0., 1., 0.],\n",
       "       [0., 1., 0., 0., 0., 0., 0., 0., 0., 0.],\n",
       "       [1., 0., 0., 1., 1., 1., 1., 1., 1., 1.],\n",
       "       [1., 0., 1., 1., 0., 1., 1., 0., 1., 1.],\n",
       "       [1., 1., 1., 1., 0., 1., 1., 0., 1., 1.],\n",
       "       [1., 0., 1., 1., 1., 1., 1., 1., 1., 1.]])"
      ]
     },
     "execution_count": 17,
     "metadata": {},
     "output_type": "execute_result"
    }
   ],
   "source": [
    "A = np.column_stack([digit.flatten() for digit in digits])\n",
    "A"
   ]
  },
  {
   "cell_type": "markdown",
   "id": "fee21adf",
   "metadata": {
    "deletable": false,
    "editable": false,
    "nbgrader": {
     "cell_type": "markdown",
     "checksum": "fdd5c8bc5cb011a4e803efeef5a64bb9",
     "grade": false,
     "grade_id": "cell-81e4eba61717760f",
     "locked": true,
     "schema_version": 3,
     "solution": false,
     "task": false
    }
   },
   "source": [
    "Let $\\mathbf{v}_k$ be the $k$th column of $A$. Remember that indices start at 0 in Python. The vector $\\mathbf{v}_k$ reshaped into a $5 \\times 3$ matrix is exactly $A_k$. For example, the column at index 4 in $A$ reshaped into a $5 \\times 3$ matrix is displayed below."
   ]
  },
  {
   "cell_type": "code",
   "execution_count": 18,
   "id": "f23c8f96",
   "metadata": {
    "deletable": false,
    "editable": false,
    "nbgrader": {
     "cell_type": "code",
     "checksum": "29d07b0a0cea63cdae4d695b6d5bb472",
     "grade": false,
     "grade_id": "cell-da44dd84dfa9498b",
     "locked": true,
     "schema_version": 3,
     "solution": false,
     "task": false
    }
   },
   "outputs": [
    {
     "data": {
      "image/png": "[encoded data removed]",
      "text/plain": [
       "<Figure size 640x480 with 2 Axes>"
      ]
     },
     "metadata": {},
     "output_type": "display_data"
    }
   ],
   "source": [
    "k = 6\n",
    "vk = A[:,k]\n",
    "plt.imshow(vk.reshape(5,3)), plt.colorbar(), plt.clim([-1,1])\n",
    "plt.show()"
   ]
  },
  {
   "cell_type": "markdown",
   "id": "501a1372",
   "metadata": {
    "deletable": false,
    "editable": false,
    "nbgrader": {
     "cell_type": "markdown",
     "checksum": "8e330562b1f359a531bd4329eb1ae08f",
     "grade": false,
     "grade_id": "cell-235ed1647171769b",
     "locked": true,
     "schema_version": 3,
     "solution": false,
     "task": false
    }
   },
   "source": [
    "### Problem 2a (1 mark)\n",
    "\n",
    "Determine the rank of $A$ and save the value as `rankA`."
   ]
  },
  {
   "cell_type": "code",
   "execution_count": 19,
   "id": "3ce5f329",
   "metadata": {
    "deletable": false,
    "nbgrader": {
     "cell_type": "code",
     "checksum": "33572cb5c50c0b92deea185f11c2f4aa",
     "grade": false,
     "grade_id": "cell-f38cdbea574b182f",
     "locked": false,
     "schema_version": 3,
     "solution": true,
     "task": false
    }
   },
   "outputs": [
    {
     "data": {
      "text/plain": [
       "9"
      ]
     },
     "execution_count": 19,
     "metadata": {},
     "output_type": "execute_result"
    }
   ],
   "source": [
    "# YOUR CODE HERE\n",
    "rankA = np.linalg.matrix_rank(A)\n",
    "rankA"
   ]
  },
  {
   "cell_type": "code",
   "execution_count": 20,
   "id": "19a87148",
   "metadata": {
    "deletable": false,
    "editable": false,
    "nbgrader": {
     "cell_type": "code",
     "checksum": "26b23eb857ba3b176e3b2a20c06fde10",
     "grade": true,
     "grade_id": "cell-ae51ea4612d01a55",
     "locked": true,
     "points": 1,
     "schema_version": 3,
     "solution": false,
     "task": false
    }
   },
   "outputs": [
    {
     "name": "stdout",
     "output_type": "stream",
     "text": [
      "Problem 2a Test 1: Success!\n"
     ]
    }
   ],
   "source": [
    "\"Verify value of rankA. This cell contains hidden tests. (1 mark)\"\n",
    "assert rankA > 0\n",
    "print(\"Problem 2a Test 1: Success!\")"
   ]
  },
  {
   "cell_type": "markdown",
   "id": "a1ca03fe",
   "metadata": {
    "deletable": false,
    "editable": false,
    "nbgrader": {
     "cell_type": "markdown",
     "checksum": "c8f57fe01702e76824b7a22380b244a1",
     "grade": false,
     "grade_id": "cell-69186ad8f8ced494",
     "locked": true,
     "schema_version": 3,
     "solution": false,
     "task": false
    }
   },
   "source": [
    "### Problem 2b (1 mark)\n",
    "\n",
    "**True** or **False**: The vectors $\\mathbf{v}_0,\\dots,\\mathbf{v}_9$ are linearly independent. Save your response as `observation2b`."
   ]
  },
  {
   "cell_type": "code",
   "execution_count": 21,
   "id": "f1396ea9",
   "metadata": {
    "deletable": false,
    "nbgrader": {
     "cell_type": "code",
     "checksum": "bb7a8c53943ede4a3fda585bcee86193",
     "grade": false,
     "grade_id": "cell-972e07484c2bbe9a",
     "locked": false,
     "schema_version": 3,
     "solution": true,
     "task": false
    }
   },
   "outputs": [],
   "source": [
    "# YOUR CODE HERE\n",
    "observation2b = False"
   ]
  },
  {
   "cell_type": "code",
   "execution_count": 22,
   "id": "f64c275f",
   "metadata": {
    "deletable": false,
    "editable": false,
    "nbgrader": {
     "cell_type": "code",
     "checksum": "78e9fb2fd033cf1b4c2b373ee3a12a3f",
     "grade": true,
     "grade_id": "cell-609ce3f5c86a8c6d",
     "locked": true,
     "points": 1,
     "schema_version": 3,
     "solution": false,
     "task": false
    }
   },
   "outputs": [
    {
     "name": "stdout",
     "output_type": "stream",
     "text": [
      "Problem 2b Test 1: Success!\n"
     ]
    }
   ],
   "source": [
    "\"Verify value of observation2b. This cell contains hidden tests. (1 mark)\"\n",
    "assert isinstance(observation2b,bool)\n",
    "print(\"Problem 2b Test 1: Success!\")"
   ]
  },
  {
   "cell_type": "markdown",
   "id": "b9b9072e",
   "metadata": {
    "deletable": false,
    "editable": false,
    "nbgrader": {
     "cell_type": "markdown",
     "checksum": "22de243d60a59cba5833d9cd14868ee5",
     "grade": false,
     "grade_id": "cell-9b06f4fa6aa3ba63",
     "locked": true,
     "schema_version": 3,
     "solution": false,
     "task": false
    }
   },
   "source": [
    "### Problem 2c (2 marks)\n",
    "\n",
    "The digit 8 looks like a combination of 2 and 5. Compute the orthogonal projection of $\\mathbf{v}_8$ onto $\\mathrm{span} \\{ \\mathbf{v}_2 , \\mathbf{v}_5 \\}$. Save the result as `proj825`.\n",
    "\n",
    "Note that you can select columns 2 and 5 from matrix `A` and save to variable `A25` with the command:\n",
    "\n",
    "```\n",
    "A25 = A[:,[2,5]]\n",
    "```\n",
    "\n",
    "and compute the thin QR decomposition using the function [`scipy.linalg.qr`](https://docs.scipy.org/doc/scipy/reference/generated/scipy.linalg.qr.html) with the parameter `mode='economic'`:\n",
    "\n",
    "```\n",
    "Q1,R1 = la.qr(A25,mode='economic')\n",
    "```\n",
    "\n",
    "Recall the projection of a vector $\\mathbf{v}$ onto $R(M)$ for some matrix $M$ is $Q_1Q_1^T\\mathbf{v}$ where $M=Q_1R_1$."
   ]
  },
  {
   "cell_type": "code",
   "execution_count": 50,
   "id": "d6951249",
   "metadata": {
    "deletable": false,
    "nbgrader": {
     "cell_type": "code",
     "checksum": "80a2770d37448209d0f2e7e58a682afd",
     "grade": false,
     "grade_id": "cell-01ed9ddf6ca08841",
     "locked": false,
     "schema_version": 3,
     "solution": true,
     "task": false
    }
   },
   "outputs": [
    {
     "data": {
      "text/plain": [
       "array([1., 1., 1., 1., 0., 1., 1., 1., 1., 1., 0., 1., 1., 1., 1.])"
      ]
     },
     "execution_count": 50,
     "metadata": {},
     "output_type": "execute_result"
    }
   ],
   "source": [
    "# YOUR CODE HERE\n",
    "A25 = A[:,[2,5,8]]\n",
    "A8 = A[:,8]\n",
    "\n",
    "Q1,R1 = la.qr(A25,mode='economic')\n",
    "QQ = np.matmul(np.transpose(Q1), A8)\n",
    "\n",
    "proj825 = np.matmul(Q1, QQ)\n",
    "proj825"
   ]
  },
  {
   "cell_type": "code",
   "execution_count": 51,
   "id": "553aaeb1",
   "metadata": {
    "deletable": false,
    "editable": false,
    "nbgrader": {
     "cell_type": "code",
     "checksum": "aea55bc98ab02238cd7d37e81acd729c",
     "grade": true,
     "grade_id": "cell-8eda0bdc0404c991",
     "locked": true,
     "points": 1,
     "schema_version": 3,
     "solution": false,
     "task": false
    }
   },
   "outputs": [
    {
     "name": "stdout",
     "output_type": "stream",
     "text": [
      "Problem 2c Test 1: Success!\n"
     ]
    }
   ],
   "source": [
    "\"Verify type and size of proj825. (1 mark)\"\n",
    "assert isinstance(proj825,np.ndarray)\n",
    "assert proj825.size == 15\n",
    "print(\"Problem 2c Test 1: Success!\")"
   ]
  },
  {
   "cell_type": "code",
   "execution_count": 52,
   "id": "20b479e7",
   "metadata": {
    "deletable": false,
    "editable": false,
    "nbgrader": {
     "cell_type": "code",
     "checksum": "7b787f0704add3cd38bcd9e93d5a18ed",
     "grade": true,
     "grade_id": "cell-430f4a4c312c5102",
     "locked": true,
     "points": 1,
     "schema_version": 3,
     "solution": false,
     "task": false
    }
   },
   "outputs": [
    {
     "ename": "AssertionError",
     "evalue": "",
     "output_type": "error",
     "traceback": [
      "\u001b[0;31m---------------------------------------------------------------------------\u001b[0m",
      "\u001b[0;31mAssertionError\u001b[0m                            Traceback (most recent call last)",
      "Cell \u001b[0;32mIn[52], line 2\u001b[0m\n\u001b[1;32m      1\u001b[0m \u001b[38;5;124m\"\u001b[39m\u001b[38;5;124mVerify value of proj825. This cell contains hidden tests. (1 mark)\u001b[39m\u001b[38;5;124m\"\u001b[39m\n\u001b[0;32m----> 2\u001b[0m \u001b[38;5;28;01massert\u001b[39;00m np\u001b[38;5;241m.\u001b[39mallclose(proj825[:\u001b[38;5;241m3\u001b[39m]\u001b[38;5;241m.\u001b[39mflatten(),[\u001b[38;5;241m1.1\u001b[39m , \u001b[38;5;241m1.1\u001b[39m , \u001b[38;5;241m1.1\u001b[39m])\n\u001b[1;32m      3\u001b[0m \u001b[38;5;28mprint\u001b[39m(\u001b[38;5;124m\"\u001b[39m\u001b[38;5;124mProblem 2c Test 2: Success!\u001b[39m\u001b[38;5;124m\"\u001b[39m)\n",
      "\u001b[0;31mAssertionError\u001b[0m: "
     ]
    }
   ],
   "source": [
    "\"Verify value of proj825. This cell contains hidden tests. (1 mark)\"\n",
    "assert np.allclose(proj825[:3].flatten(),[1.1 , 1.1 , 1.1])\n",
    "print(\"Problem 2c Test 2: Success!\")"
   ]
  },
  {
   "cell_type": "markdown",
   "id": "7800ee7e",
   "metadata": {
    "deletable": false,
    "editable": false,
    "nbgrader": {
     "cell_type": "markdown",
     "checksum": "e195cbf251d29b2f1e836563e297e516",
     "grade": false,
     "grade_id": "cell-24a615890649b44b",
     "locked": true,
     "schema_version": 3,
     "solution": false,
     "task": false
    }
   },
   "source": [
    "Visualize the projection as a 5 x 3 pixel image:"
   ]
  },
  {
   "cell_type": "code",
   "execution_count": 53,
   "id": "e35d4da0",
   "metadata": {
    "deletable": false,
    "editable": false,
    "nbgrader": {
     "cell_type": "code",
     "checksum": "de1d2dcb9f2557464f24130f59301dac",
     "grade": false,
     "grade_id": "cell-0b8281751d6597ae",
     "locked": true,
     "schema_version": 3,
     "solution": false,
     "task": false
    }
   },
   "outputs": [
    {
     "data": {
      "image/png": "[encoded data removed]",
      "text/plain": [
       "<Figure size 640x480 with 2 Axes>"
      ]
     },
     "metadata": {},
     "output_type": "display_data"
    }
   ],
   "source": [
    "plt.imshow(proj825.reshape(5,3)), plt.colorbar(), plt.clim([-1,1])\n",
    "plt.show()"
   ]
  },
  {
   "cell_type": "markdown",
   "id": "b793ee2a",
   "metadata": {
    "deletable": false,
    "editable": false,
    "nbgrader": {
     "cell_type": "markdown",
     "checksum": "fccbb86b8c4561ecfc3a6dc9b84f38b1",
     "grade": false,
     "grade_id": "cell-653c371ad7dcf38d",
     "locked": true,
     "schema_version": 3,
     "solution": false,
     "task": false
    }
   },
   "source": [
    "### Problem 2d (2 marks)\n",
    "\n",
    "Find the shortest distance from $\\mathbf{v}_9$ to $\\mathrm{span} \\{ \\mathbf{v}_0 , \\mathbf{v}_1 , \\mathbf{v}_2 , \\mathbf{v}_3 , \\mathbf{v}_4 \\}$. Save the result as `distance9`. Use the function [`scipy.linalg.norm`](https://docs.scipy.org/doc/scipy/reference/generated/scipy.linalg.norm.html) to compute the norm."
   ]
  },
  {
   "cell_type": "code",
   "execution_count": null,
   "id": "106188cf",
   "metadata": {
    "deletable": false,
    "nbgrader": {
     "cell_type": "code",
     "checksum": "83700e28d49b8e35799b03ed81ac0471",
     "grade": false,
     "grade_id": "cell-d78e2e61f1545d28",
     "locked": false,
     "schema_version": 3,
     "solution": true,
     "task": false
    }
   },
   "outputs": [],
   "source": [
    "# YOUR CODE HERE\n",
    "distance9 = la.norm()"
   ]
  },
  {
   "cell_type": "code",
   "execution_count": null,
   "id": "4d014f68",
   "metadata": {
    "deletable": false,
    "editable": false,
    "nbgrader": {
     "cell_type": "code",
     "checksum": "501b1630dbcab5d00a9e5b73726d4855",
     "grade": true,
     "grade_id": "cell-ea07f610840230fa",
     "locked": true,
     "points": 1,
     "schema_version": 3,
     "solution": false,
     "task": false
    }
   },
   "outputs": [],
   "source": [
    "\"Verify distance9 is a positive number. (1 mark)\"\n",
    "assert distance9 > 0\n",
    "print(\"Problem 2d Test 1: Success!\")"
   ]
  },
  {
   "cell_type": "code",
   "execution_count": null,
   "id": "89d345ac",
   "metadata": {
    "deletable": false,
    "editable": false,
    "nbgrader": {
     "cell_type": "code",
     "checksum": "22dacfd490ca25b8c90ab618327416e7",
     "grade": true,
     "grade_id": "cell-fc8fe1d419a84b5a",
     "locked": true,
     "points": 1,
     "schema_version": 3,
     "solution": false,
     "task": false
    }
   },
   "outputs": [],
   "source": [
    "\"Verify value of distance9. This cell contains hidden tests. (1 mark)\"\n",
    "assert np.round(distance9,1) == 0.7\n",
    "print(\"Problem 2d Test 2: Success!\")"
   ]
  },
  {
   "cell_type": "markdown",
   "id": "716dafe8",
   "metadata": {
    "deletable": false,
    "editable": false,
    "nbgrader": {
     "cell_type": "markdown",
     "checksum": "2b711587e467bea88d6c8f460b5583bb",
     "grade": false,
     "grade_id": "cell-d965ae0773f39bfd",
     "locked": true,
     "schema_version": 3,
     "solution": false,
     "task": false
    }
   },
   "source": [
    "## Problem 3 (8 marks)\n",
    "\n",
    "Let $M = Q_1 R_1$ be the thin QR decomposition of $M$. The projection of a vector $\\mathbf{v}$ onto the range $R(M)$ is given by\n",
    "\n",
    "$$\n",
    "\\mathrm{proj}_{R(M)} (\\mathbf{v}) = Q_1 Q_1^T \\mathbf{v}\n",
    "$$\n",
    "\n",
    "Compute the thin QR decomposition using the function [`scipy.linalg.qr`](https://docs.scipy.org/doc/scipy/reference/generated/scipy.linalg.qr.html) with the parameter `mode='economic'`:\n",
    "\n",
    "```\n",
    "Q1,R1 = la.qr(M,mode='economic')\n",
    "```\n",
    "\n",
    "Consider the matrix\n",
    "\n",
    "$$\n",
    "M = \\begin{bmatrix} 1 & 1 & 0 \\\\ 1 & 1 & 1 \\\\ 0 & 1 & 1 \\\\ 1 & 0 & 1 \\\\ 1 & 2 & 1 \\end{bmatrix}\n",
    "$$"
   ]
  },
  {
   "cell_type": "code",
   "execution_count": 63,
   "id": "86c7354e",
   "metadata": {
    "deletable": false,
    "editable": false,
    "nbgrader": {
     "cell_type": "code",
     "checksum": "50237e5abb392b4d90cc60fa542243eb",
     "grade": false,
     "grade_id": "cell-c5a2b0c1f3e2127e",
     "locked": true,
     "schema_version": 3,
     "solution": false,
     "task": false
    }
   },
   "outputs": [],
   "source": [
    "M = np.array([[1.,1.,0.],\n",
    "              [1.,1.,1.],\n",
    "              [0.,1.,1.],\n",
    "              [1.,0.,1.],\n",
    "              [1.,2.,1.]])"
   ]
  },
  {
   "cell_type": "markdown",
   "id": "cdb38335",
   "metadata": {
    "deletable": false,
    "editable": false,
    "nbgrader": {
     "cell_type": "markdown",
     "checksum": "14b1f48c8f79a3732f4b5ec95b69eb15",
     "grade": false,
     "grade_id": "cell-d1b22bc6db89edca",
     "locked": true,
     "schema_version": 3,
     "solution": false,
     "task": false
    }
   },
   "source": [
    "### Problem 3a (2 marks)\n",
    "\n",
    "Compute the thin QR decomposition $M = Q_1 R_1$. Save the result as `Q1M` and `R1M`."
   ]
  },
  {
   "cell_type": "code",
   "execution_count": 15,
   "id": "c258dbe4",
   "metadata": {
    "deletable": false,
    "nbgrader": {
     "cell_type": "code",
     "checksum": "f57939c60a91a57421a532a570e6a903",
     "grade": false,
     "grade_id": "cell-eccf4f368340019b",
     "locked": false,
     "schema_version": 3,
     "solution": true,
     "task": false
    }
   },
   "outputs": [
    {
     "data": {
      "text/plain": [
       "array([[-2.        , -2.        , -1.5       ],\n",
       "       [ 0.        , -1.73205081, -0.57735027],\n",
       "       [ 0.        ,  0.        , -1.19023807]])"
      ]
     },
     "execution_count": 15,
     "metadata": {},
     "output_type": "execute_result"
    }
   ],
   "source": [
    "# YOUR CODE HERE\n",
    "\n",
    "Q1M, R1M = la.qr(M,mode='economic')\n",
    "R1M"
   ]
  },
  {
   "cell_type": "code",
   "execution_count": 7,
   "id": "5546ab75",
   "metadata": {
    "deletable": false,
    "editable": false,
    "nbgrader": {
     "cell_type": "code",
     "checksum": "1fda06def2181d6ff0d78a6158ce6a51",
     "grade": true,
     "grade_id": "cell-983bb638c385a4c0",
     "locked": true,
     "points": 1,
     "schema_version": 3,
     "solution": false,
     "task": false
    }
   },
   "outputs": [
    {
     "name": "stdout",
     "output_type": "stream",
     "text": [
      "Problem 3a Test 1: Success!\n"
     ]
    }
   ],
   "source": [
    "\"Verify type of Q1M and R1M. (1 mark)\"\n",
    "assert isinstance(Q1M,np.ndarray)\n",
    "assert isinstance(R1M,np.ndarray)\n",
    "print(\"Problem 3a Test 1: Success!\")"
   ]
  },
  {
   "cell_type": "code",
   "execution_count": 8,
   "id": "59a193a2",
   "metadata": {
    "deletable": false,
    "editable": false,
    "nbgrader": {
     "cell_type": "code",
     "checksum": "bc28965659d3c0b37d7e3144b6b9bdbf",
     "grade": true,
     "grade_id": "cell-765f4cd67182ab93",
     "locked": true,
     "points": 1,
     "schema_version": 3,
     "solution": false,
     "task": false
    }
   },
   "outputs": [
    {
     "name": "stdout",
     "output_type": "stream",
     "text": [
      "Problem 3a Test 2: Success!\n"
     ]
    }
   ],
   "source": [
    "\"Verify values of Q1M and R1M. This cell contains hidden tests. (1 mark)\"\n",
    "assert np.allclose(Q1M[0,0],-0.5)\n",
    "assert np.allclose(R1M[0,0],-2)\n",
    "print(\"Problem 3a Test 2: Success!\")"
   ]
  },
  {
   "cell_type": "markdown",
   "id": "0eecf0f9",
   "metadata": {
    "deletable": false,
    "editable": false,
    "nbgrader": {
     "cell_type": "markdown",
     "checksum": "85196f43862247936f8e097323ee69a8",
     "grade": false,
     "grade_id": "cell-6616f8cf21a0ac9b",
     "locked": true,
     "schema_version": 3,
     "solution": false,
     "task": false
    }
   },
   "source": [
    "### Problem 3b (2 marks)\n",
    "\n",
    "Use $Q_1$ to compute the projection of $\\mathbf{v}$ onto $R(M)$ where\n",
    "\n",
    "$$\n",
    "\\mathbf{v} = \\left[ \\begin{array}{r} 1 \\\\ 2 \\\\ 1 \\\\ 1 \\\\ -1 \\end{array} \\right]\n",
    "$$\n",
    "\n",
    "Save the result as `proj`."
   ]
  },
  {
   "cell_type": "code",
   "execution_count": 45,
   "id": "f8ebe704",
   "metadata": {
    "deletable": false,
    "nbgrader": {
     "cell_type": "code",
     "checksum": "ab49077b09d1eb4c13a196850d5e8a8f",
     "grade": false,
     "grade_id": "cell-03f28b32e906b51b",
     "locked": false,
     "schema_version": 3,
     "solution": true,
     "task": false
    }
   },
   "outputs": [],
   "source": [
    "# YOUR CODE HERE\n",
    "proj = Q1M @ Q1M.transpose() @ np.array([1,2,1,1,-1])"
   ]
  },
  {
   "cell_type": "code",
   "execution_count": 46,
   "id": "2432480b",
   "metadata": {
    "deletable": false,
    "editable": false,
    "nbgrader": {
     "cell_type": "code",
     "checksum": "c77776e4bfeea080b5e60aa6d9fb37eb",
     "grade": true,
     "grade_id": "cell-4395add049de2804",
     "locked": true,
     "points": 1,
     "schema_version": 3,
     "solution": false,
     "task": false
    }
   },
   "outputs": [
    {
     "name": "stdout",
     "output_type": "stream",
     "text": [
      "Problem 3b Test 1: Success!\n"
     ]
    }
   ],
   "source": [
    "\"Verify type of proj. (1 mark)\"\n",
    "assert isinstance(proj,np.ndarray)\n",
    "print(\"Problem 3b Test 1: Success!\")"
   ]
  },
  {
   "cell_type": "code",
   "execution_count": 47,
   "id": "3be5bbcd",
   "metadata": {
    "deletable": false,
    "editable": false,
    "nbgrader": {
     "cell_type": "code",
     "checksum": "9276d8e0bf94d10661d25a7de2ff19d2",
     "grade": true,
     "grade_id": "cell-64e4da933f92fdc5",
     "locked": true,
     "points": 1,
     "schema_version": 3,
     "solution": false,
     "task": false
    }
   },
   "outputs": [
    {
     "name": "stdout",
     "output_type": "stream",
     "text": [
      "Problem 3b Test 2: Success!\n"
     ]
    }
   ],
   "source": [
    "\"Verify values of proj. This cell contains hidden tests. (1 mark)\"\n",
    "assert np.allclose(proj[0],0.17647059)\n",
    "print(\"Problem 3b Test 2: Success!\")"
   ]
  },
  {
   "cell_type": "markdown",
   "id": "d5f67d82",
   "metadata": {
    "deletable": false,
    "editable": false,
    "nbgrader": {
     "cell_type": "markdown",
     "checksum": "4cb1bde18d00ca7b9222096484d943b5",
     "grade": false,
     "grade_id": "cell-b5854465eeb3d696",
     "locked": true,
     "schema_version": 3,
     "solution": false,
     "task": false
    }
   },
   "source": [
    "### Problem 3c (2 marks)\n",
    "\n",
    "Find the projection matrix $P$ which projects onto $R(M)^{\\perp}$ (the orthogonal complement of the range $R(M)$). Save the result as `P`."
   ]
  },
  {
   "cell_type": "code",
   "execution_count": 68,
   "id": "e682f405",
   "metadata": {
    "deletable": false,
    "nbgrader": {
     "cell_type": "code",
     "checksum": "a03d0aaff555fe55e9684fffb5ca478e",
     "grade": false,
     "grade_id": "cell-4f28b9e86b3a8f9e",
     "locked": false,
     "schema_version": 3,
     "solution": true,
     "task": false
    }
   },
   "outputs": [
    {
     "data": {
      "text/plain": [
       "array([[1., 1., 0., 1., 1.],\n",
       "       [1., 1., 1., 0., 2.],\n",
       "       [0., 1., 1., 1., 1.]])"
      ]
     },
     "execution_count": 68,
     "metadata": {},
     "output_type": "execute_result"
    }
   ],
   "source": [
    "# YOUR CODE HERE\n",
    "MT = M.transpose()\n",
    "QMT, RMT = la.qr(MT, mode='economic')\n",
    "\n",
    "P = QMT @ la.inv((QMT.transpose() @ QMT)) @ QMT.transpose()\n",
    "# P = Q1M @ Q1M.transpose() / la.norm(Q1M)**2\n",
    "MT"
   ]
  },
  {
   "cell_type": "code",
   "execution_count": null,
   "id": "5c185928",
   "metadata": {},
   "outputs": [],
   "source": []
  },
  {
   "cell_type": "code",
   "execution_count": 49,
   "id": "fb132254",
   "metadata": {
    "deletable": false,
    "editable": false,
    "nbgrader": {
     "cell_type": "code",
     "checksum": "328d47d2aa8e2fe421d2120f0e3ed176",
     "grade": true,
     "grade_id": "cell-7e1f979df4e90056",
     "locked": true,
     "points": 1,
     "schema_version": 3,
     "solution": false,
     "task": false
    }
   },
   "outputs": [
    {
     "name": "stdout",
     "output_type": "stream",
     "text": [
      "Problem 3c Test 1: Success!\n"
     ]
    }
   ],
   "source": [
    "\"Verify type and size of P. (1 mark)\"\n",
    "assert isinstance(P,np.ndarray) , \"P should be a NumPy array.\"\n",
    "assert P.shape == (5,5) , \"P should be a 5x5 matrix.\"\n",
    "print(\"Problem 3c Test 1: Success!\")"
   ]
  },
  {
   "cell_type": "code",
   "execution_count": 57,
   "id": "a9d13cf3",
   "metadata": {
    "deletable": false,
    "editable": false,
    "nbgrader": {
     "cell_type": "code",
     "checksum": "c52b58fb7f3be752fccec0d8d12fdccc",
     "grade": true,
     "grade_id": "cell-2b84def6a36feb03",
     "locked": true,
     "points": 1,
     "schema_version": 3,
     "solution": false,
     "task": false
    }
   },
   "outputs": [
    {
     "ename": "AssertionError",
     "evalue": "",
     "output_type": "error",
     "traceback": [
      "\u001b[0;31m---------------------------------------------------------------------------\u001b[0m",
      "\u001b[0;31mAssertionError\u001b[0m                            Traceback (most recent call last)",
      "Cell \u001b[0;32mIn[57], line 2\u001b[0m\n\u001b[1;32m      1\u001b[0m \u001b[38;5;124m\"\u001b[39m\u001b[38;5;124mVerify values of P. This cell contains hidden tests. (1 mark)\u001b[39m\u001b[38;5;124m\"\u001b[39m\n\u001b[0;32m----> 2\u001b[0m \u001b[38;5;28;01massert\u001b[39;00m np\u001b[38;5;241m.\u001b[39mallclose(P[\u001b[38;5;241m0\u001b[39m,\u001b[38;5;241m0\u001b[39m],\u001b[38;5;241m0.35294118\u001b[39m)\n\u001b[1;32m      3\u001b[0m \u001b[38;5;28mprint\u001b[39m(\u001b[38;5;124m\"\u001b[39m\u001b[38;5;124mProblem 3c Test 2: Success!\u001b[39m\u001b[38;5;124m\"\u001b[39m)\n",
      "\u001b[0;31mAssertionError\u001b[0m: "
     ]
    }
   ],
   "source": [
    "\"Verify values of P. This cell contains hidden tests. (1 mark)\"\n",
    "assert np.allclose(P[0,0],0.35294118)\n",
    "print(\"Problem 3c Test 2: Success!\")"
   ]
  },
  {
   "cell_type": "markdown",
   "id": "4427b4e9",
   "metadata": {
    "deletable": false,
    "editable": false,
    "nbgrader": {
     "cell_type": "markdown",
     "checksum": "282d8b2912d3a738ca2858ae83145e52",
     "grade": false,
     "grade_id": "cell-16e8705520eb5dc1",
     "locked": true,
     "schema_version": 3,
     "solution": false,
     "task": false
    }
   },
   "source": [
    "### Problem 3d (2 marks)\n",
    "\n",
    "Find the shortest distance from the vector\n",
    "\n",
    "$$\n",
    "\\mathbf{w} = \\left[ \\begin{array}{r} 1 \\\\ 3 \\\\ 1 \\\\ 0 \\\\ 2 \\end{array} \\right]\n",
    "$$\n",
    "\n",
    "to the subspace $R(M)$. Save the result as `distance3`. Use the function [`scipy.linalg.norm`](https://docs.scipy.org/doc/scipy/reference/generated/scipy.linalg.norm.html) to compute the norm of a matrix."
   ]
  },
  {
   "cell_type": "code",
   "execution_count": null,
   "id": "582b051c",
   "metadata": {
    "deletable": false,
    "nbgrader": {
     "cell_type": "code",
     "checksum": "9ed2e923f7e00e55c090f09b79ca4bae",
     "grade": false,
     "grade_id": "cell-5d99588f53797102",
     "locked": false,
     "schema_version": 3,
     "solution": true,
     "task": false
    }
   },
   "outputs": [],
   "source": [
    "# YOUR CODE HERE\n",
    "distance3 = "
   ]
  },
  {
   "cell_type": "code",
   "execution_count": null,
   "id": "d02911ff",
   "metadata": {
    "deletable": false,
    "editable": false,
    "nbgrader": {
     "cell_type": "code",
     "checksum": "6075174a4b6d69cbad365047fd489585",
     "grade": true,
     "grade_id": "cell-c656194d0bf57c1c",
     "locked": true,
     "points": 1,
     "schema_version": 3,
     "solution": false,
     "task": false
    }
   },
   "outputs": [],
   "source": [
    "\"Verify distance3 is a positive number. (1 mark)\"\n",
    "assert distance3 > 0\n",
    "print(\"Problem 3d Test 1: Success!\")"
   ]
  },
  {
   "cell_type": "code",
   "execution_count": null,
   "id": "a71c69f2",
   "metadata": {
    "deletable": false,
    "editable": false,
    "nbgrader": {
     "cell_type": "code",
     "checksum": "a1256c3c2003ac84daf6169adaa8e3c1",
     "grade": true,
     "grade_id": "cell-532b08c4b2a7bcfd",
     "locked": true,
     "points": 1,
     "schema_version": 3,
     "solution": false,
     "task": false
    }
   },
   "outputs": [],
   "source": [
    "\"Verify value of distance3. This cell contains hidden tests. (1 mark)\"\n",
    "assert np.round(distance3,1) == 1.7\n",
    "print(\"Problem 3d Test 2: Success!\")"
   ]
  }
 ],
 "metadata": {
  "kernelspec": {
   "display_name": "Python 3 (ipykernel)",
   "language": "python",
   "name": "python3"
  },
  "language_info": {
   "codemirror_mode": {
    "name": "ipython",
    "version": 3
   },
   "file_extension": ".py",
   "mimetype": "text/x-python",
   "name": "python",
   "nbconvert_exporter": "python",
   "pygments_lexer": "ipython3",
   "version": "3.10.13"
  }
 },
 "nbformat": 4,
 "nbformat_minor": 5
}
